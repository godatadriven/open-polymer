{
 "cells": [
  {
   "cell_type": "markdown",
   "id": "17fb6123",
   "metadata": {},
   "source": [
    "# Splitting data\n",
    "Split the original training data into train, validation, and test sets"
   ]
  },
  {
   "cell_type": "code",
   "execution_count": 1,
   "id": "93f13dd3",
   "metadata": {},
   "outputs": [],
   "source": [
    "%load_ext autoreload\n",
    "%autoreload 2"
   ]
  },
  {
   "cell_type": "code",
   "execution_count": 4,
   "id": "b5fc22fd",
   "metadata": {},
   "outputs": [],
   "source": [
    "from pathlib import Path\n",
    "\n",
    "\n",
    "DATA_DIR = Path(\"../../data\")\n",
    "SEED = 42"
   ]
  },
  {
   "cell_type": "code",
   "execution_count": 5,
   "id": "191eb164",
   "metadata": {},
   "outputs": [
    {
     "name": "stdout",
     "output_type": "stream",
     "text": [
      "Total rows:   7973\n",
      "Dev train:    4783 (59.99%)\n",
      "Dev valid:    1595 (20.01%)\n",
      "Dev test:     1595 (20.01%)\n",
      "Polymer example:['*Nc1ccc(CC(CC(C)(C)c2ccc(N*)cc2)=C(C)C)cc1', '*CC(*)(CC(=O)OC)C(=O)OC12CC3CC(C)(CC(C)(C3)C1)C2', '*OP(=O)(Oc1c(Cl)cc(Cl)cc1Cl)Oc1c(Cl)c(Cl)c(*)c(Cl)c1Cl']\n",
      "Columns:Index(['id', 'SMILES', 'Tg', 'FFV', 'Tc', 'Density', 'Rg'], dtype='object')\n"
     ]
    }
   ],
   "source": [
    "import pandas as pd\n",
    "from sklearn.model_selection import train_test_split\n",
    "\n",
    "csv_path = DATA_DIR / \"neurips-open-polymer-prediction-2025/train.csv\"\n",
    "train_df = pd.read_csv(csv_path)\n",
    "\n",
    "# 1. split off 20% for dev_test\n",
    "temp_df, dev_test = train_test_split(\n",
    "    train_df,\n",
    "    test_size=0.2,\n",
    "    random_state=SEED,  # for reproducibility\n",
    "    shuffle=True\n",
    ")\n",
    "\n",
    "# 2. split the remaining 80% into 75% train / 25% valid → 0.6 / 0.2 overall\n",
    "dev_train, dev_val = train_test_split(\n",
    "    temp_df,\n",
    "    test_size=0.25,  # 0.111 * 0.9 = 0.1 of the original\n",
    "    random_state=SEED,\n",
    "    shuffle=True\n",
    ")\n",
    "\n",
    "# Verify sizes\n",
    "print(f\"Total rows:   {len(train_df)}\")\n",
    "print(f\"Dev train:    {len(dev_train)} ({len(dev_train) / len(train_df):.2%})\")\n",
    "print(f\"Dev valid:    {len(dev_val)} ({len(dev_val) / len(train_df):.2%})\")\n",
    "print(f\"Dev test:     {len(dev_test)} ({len(dev_test) / len(train_df):.2%})\")\n",
    "print(f\"Polymer example:{dev_train['SMILES'].to_list()[:3]}\")\n",
    "print(f\"Columns:{dev_train.columns}\")"
   ]
  },
  {
   "cell_type": "code",
   "execution_count": 6,
   "id": "5e4e1fe5",
   "metadata": {},
   "outputs": [
    {
     "data": {
      "text/html": [
       "<div>\n",
       "<style scoped>\n",
       "    .dataframe tbody tr th:only-of-type {\n",
       "        vertical-align: middle;\n",
       "    }\n",
       "\n",
       "    .dataframe tbody tr th {\n",
       "        vertical-align: top;\n",
       "    }\n",
       "\n",
       "    .dataframe thead th {\n",
       "        text-align: right;\n",
       "    }\n",
       "</style>\n",
       "<table border=\"1\" class=\"dataframe\">\n",
       "  <thead>\n",
       "    <tr style=\"text-align: right;\">\n",
       "      <th></th>\n",
       "      <th>Tg</th>\n",
       "      <th>FFV</th>\n",
       "      <th>Tc</th>\n",
       "      <th>Density</th>\n",
       "      <th>Rg</th>\n",
       "    </tr>\n",
       "  </thead>\n",
       "  <tbody>\n",
       "    <tr>\n",
       "      <th>count</th>\n",
       "      <td>511.000000</td>\n",
       "      <td>7030.000000</td>\n",
       "      <td>737.000000</td>\n",
       "      <td>613.000000</td>\n",
       "      <td>614.000000</td>\n",
       "    </tr>\n",
       "    <tr>\n",
       "      <th>mean</th>\n",
       "      <td>96.452314</td>\n",
       "      <td>0.367212</td>\n",
       "      <td>0.256334</td>\n",
       "      <td>0.985484</td>\n",
       "      <td>16.419787</td>\n",
       "    </tr>\n",
       "    <tr>\n",
       "      <th>std</th>\n",
       "      <td>111.228279</td>\n",
       "      <td>0.029609</td>\n",
       "      <td>0.089538</td>\n",
       "      <td>0.146189</td>\n",
       "      <td>4.608640</td>\n",
       "    </tr>\n",
       "    <tr>\n",
       "      <th>min</th>\n",
       "      <td>-148.029738</td>\n",
       "      <td>0.226992</td>\n",
       "      <td>0.046500</td>\n",
       "      <td>0.748691</td>\n",
       "      <td>9.728355</td>\n",
       "    </tr>\n",
       "    <tr>\n",
       "      <th>25%</th>\n",
       "      <td>13.674509</td>\n",
       "      <td>0.349549</td>\n",
       "      <td>0.186000</td>\n",
       "      <td>0.890243</td>\n",
       "      <td>12.540328</td>\n",
       "    </tr>\n",
       "    <tr>\n",
       "      <th>50%</th>\n",
       "      <td>74.040183</td>\n",
       "      <td>0.364264</td>\n",
       "      <td>0.236000</td>\n",
       "      <td>0.948193</td>\n",
       "      <td>15.052194</td>\n",
       "    </tr>\n",
       "    <tr>\n",
       "      <th>75%</th>\n",
       "      <td>161.147595</td>\n",
       "      <td>0.380790</td>\n",
       "      <td>0.330500</td>\n",
       "      <td>1.062096</td>\n",
       "      <td>20.411067</td>\n",
       "    </tr>\n",
       "    <tr>\n",
       "      <th>max</th>\n",
       "      <td>472.250000</td>\n",
       "      <td>0.777097</td>\n",
       "      <td>0.524000</td>\n",
       "      <td>1.840999</td>\n",
       "      <td>34.672906</td>\n",
       "    </tr>\n",
       "  </tbody>\n",
       "</table>\n",
       "</div>"
      ],
      "text/plain": [
       "               Tg          FFV          Tc     Density          Rg\n",
       "count  511.000000  7030.000000  737.000000  613.000000  614.000000\n",
       "mean    96.452314     0.367212    0.256334    0.985484   16.419787\n",
       "std    111.228279     0.029609    0.089538    0.146189    4.608640\n",
       "min   -148.029738     0.226992    0.046500    0.748691    9.728355\n",
       "25%     13.674509     0.349549    0.186000    0.890243   12.540328\n",
       "50%     74.040183     0.364264    0.236000    0.948193   15.052194\n",
       "75%    161.147595     0.380790    0.330500    1.062096   20.411067\n",
       "max    472.250000     0.777097    0.524000    1.840999   34.672906"
      ]
     },
     "execution_count": 6,
     "metadata": {},
     "output_type": "execute_result"
    }
   ],
   "source": [
    "train_df.drop(columns=[\"id\"]).describe()"
   ]
  },
  {
   "cell_type": "code",
   "execution_count": 7,
   "id": "426151d4",
   "metadata": {},
   "outputs": [
    {
     "data": {
      "text/html": [
       "<div>\n",
       "<style scoped>\n",
       "    .dataframe tbody tr th:only-of-type {\n",
       "        vertical-align: middle;\n",
       "    }\n",
       "\n",
       "    .dataframe tbody tr th {\n",
       "        vertical-align: top;\n",
       "    }\n",
       "\n",
       "    .dataframe thead th {\n",
       "        text-align: right;\n",
       "    }\n",
       "</style>\n",
       "<table border=\"1\" class=\"dataframe\">\n",
       "  <thead>\n",
       "    <tr style=\"text-align: right;\">\n",
       "      <th></th>\n",
       "      <th>Tg</th>\n",
       "      <th>FFV</th>\n",
       "      <th>Tc</th>\n",
       "      <th>Density</th>\n",
       "      <th>Rg</th>\n",
       "    </tr>\n",
       "  </thead>\n",
       "  <tbody>\n",
       "    <tr>\n",
       "      <th>count</th>\n",
       "      <td>87.000000</td>\n",
       "      <td>1419.000000</td>\n",
       "      <td>145.000000</td>\n",
       "      <td>123.000000</td>\n",
       "      <td>124.000000</td>\n",
       "    </tr>\n",
       "    <tr>\n",
       "      <th>mean</th>\n",
       "      <td>88.357301</td>\n",
       "      <td>0.366495</td>\n",
       "      <td>0.265006</td>\n",
       "      <td>0.974297</td>\n",
       "      <td>16.444188</td>\n",
       "    </tr>\n",
       "    <tr>\n",
       "      <th>std</th>\n",
       "      <td>102.567914</td>\n",
       "      <td>0.026860</td>\n",
       "      <td>0.088128</td>\n",
       "      <td>0.141211</td>\n",
       "      <td>4.954409</td>\n",
       "    </tr>\n",
       "    <tr>\n",
       "      <th>min</th>\n",
       "      <td>-77.911077</td>\n",
       "      <td>0.271584</td>\n",
       "      <td>0.100667</td>\n",
       "      <td>0.757428</td>\n",
       "      <td>9.767195</td>\n",
       "    </tr>\n",
       "    <tr>\n",
       "      <th>25%</th>\n",
       "      <td>11.463709</td>\n",
       "      <td>0.349499</td>\n",
       "      <td>0.193000</td>\n",
       "      <td>0.885849</td>\n",
       "      <td>12.380452</td>\n",
       "    </tr>\n",
       "    <tr>\n",
       "      <th>50%</th>\n",
       "      <td>70.428842</td>\n",
       "      <td>0.363664</td>\n",
       "      <td>0.244000</td>\n",
       "      <td>0.946344</td>\n",
       "      <td>14.813247</td>\n",
       "    </tr>\n",
       "    <tr>\n",
       "      <th>75%</th>\n",
       "      <td>136.154956</td>\n",
       "      <td>0.380145</td>\n",
       "      <td>0.335333</td>\n",
       "      <td>1.050418</td>\n",
       "      <td>20.580689</td>\n",
       "    </tr>\n",
       "    <tr>\n",
       "      <th>max</th>\n",
       "      <td>384.637936</td>\n",
       "      <td>0.528203</td>\n",
       "      <td>0.507000</td>\n",
       "      <td>1.840999</td>\n",
       "      <td>34.487303</td>\n",
       "    </tr>\n",
       "  </tbody>\n",
       "</table>\n",
       "</div>"
      ],
      "text/plain": [
       "               Tg          FFV          Tc     Density          Rg\n",
       "count   87.000000  1419.000000  145.000000  123.000000  124.000000\n",
       "mean    88.357301     0.366495    0.265006    0.974297   16.444188\n",
       "std    102.567914     0.026860    0.088128    0.141211    4.954409\n",
       "min    -77.911077     0.271584    0.100667    0.757428    9.767195\n",
       "25%     11.463709     0.349499    0.193000    0.885849   12.380452\n",
       "50%     70.428842     0.363664    0.244000    0.946344   14.813247\n",
       "75%    136.154956     0.380145    0.335333    1.050418   20.580689\n",
       "max    384.637936     0.528203    0.507000    1.840999   34.487303"
      ]
     },
     "execution_count": 7,
     "metadata": {},
     "output_type": "execute_result"
    }
   ],
   "source": [
    "dev_test.drop(columns=[\"id\"]).describe()"
   ]
  },
  {
   "cell_type": "code",
   "execution_count": 8,
   "id": "42eeb990",
   "metadata": {},
   "outputs": [],
   "source": [
    "# Kolmogorov-Smirnov (K-S) Test\n",
    "from scipy.stats import ks_2samp\n",
    "\n",
    "\n",
    "def ks_test_feature(set_a, set_b):\n",
    "    stat, p_value = ks_2samp(set_a.dropna(), set_b.dropna())\n",
    "    return stat, p_value\n"
   ]
  },
  {
   "cell_type": "code",
   "execution_count": 9,
   "id": "586e6c46",
   "metadata": {},
   "outputs": [
    {
     "name": "stdout",
     "output_type": "stream",
     "text": [
      "K-S Test for Tg: Statistic=0.0845, p-value=0.6785\n",
      "K-S Test for FFV: Statistic=0.0179, p-value=0.8790\n",
      "K-S Test for Tc: Statistic=0.1176, p-value=0.0868\n",
      "K-S Test for Density: Statistic=0.0851, p-value=0.4810\n",
      "K-S Test for Rg: Statistic=0.0653, p-value=0.7921\n"
     ]
    }
   ],
   "source": [
    "for feature in dev_train.drop(columns=[\"id\", \"SMILES\"]).columns:\n",
    "    stat, p_value = ks_test_feature(dev_train[feature], dev_test[feature])\n",
    "    print(f\"K-S Test for {feature}: Statistic={stat:.4f}, p-value={p_value:.4f}\")"
   ]
  },
  {
   "cell_type": "code",
   "execution_count": 10,
   "id": "d482f5aa",
   "metadata": {},
   "outputs": [
    {
     "name": "stdout",
     "output_type": "stream",
     "text": [
      "K-S Test for Tg: Statistic=0.1307, p-value=0.1093\n",
      "K-S Test for FFV: Statistic=0.0195, p-value=0.8092\n",
      "K-S Test for Tc: Statistic=0.1514, p-value=0.0141\n",
      "K-S Test for Density: Statistic=0.0753, p-value=0.6707\n",
      "K-S Test for Rg: Statistic=0.0786, p-value=0.6185\n"
     ]
    }
   ],
   "source": [
    "\n",
    "for feature in dev_train.drop(columns=[\"id\", \"SMILES\"]).columns:\n",
    "    stat, p_value = ks_test_feature(dev_train[feature], dev_val[feature])\n",
    "    print(f\"K-S Test for {feature}: Statistic={stat:.4f}, p-value={p_value:.4f}\")\n"
   ]
  },
  {
   "cell_type": "code",
   "execution_count": 11,
   "id": "db478f2e",
   "metadata": {},
   "outputs": [],
   "source": [
    "import numpy as np\n",
    "from statsmodels.stats.proportion import proportions_ztest\n",
    "\n",
    "\n",
    "def run_proportions_ztest(set_a, set_b):\n",
    "    counts = np.array([set_a.notna().sum(), set_b.notna().sum()])\n",
    "    nobs = np.array([set_a.size, set_b.size])\n",
    "    # print(counts, nobs)\n",
    "    stat, pval = proportions_ztest(counts, nobs)\n",
    "    return stat, pval\n"
   ]
  },
  {
   "cell_type": "code",
   "execution_count": 12,
   "id": "9224d024",
   "metadata": {},
   "outputs": [
    {
     "name": "stdout",
     "output_type": "stream",
     "text": [
      "Proportions Z-Test for Tg: Statistic=1.5541, p-value=0.1202\n",
      "Proportions Z-Test for FFV: Statistic=-0.9938, p-value=0.3203\n",
      "Proportions Z-Test for Tc: Statistic=0.4999, p-value=0.6172\n",
      "Proportions Z-Test for Density: Statistic=0.1926, p-value=0.8472\n",
      "Proportions Z-Test for Rg: Statistic=0.1118, p-value=0.9110\n"
     ]
    }
   ],
   "source": [
    "for feature in dev_train.drop(columns=[\"id\", \"SMILES\"]).columns:\n",
    "    stat, pval = run_proportions_ztest(dev_train[feature], dev_test[feature])\n",
    "    print(f\"Proportions Z-Test for {feature}: Statistic={stat:.4f}, p-value={pval:.4f}\")"
   ]
  },
  {
   "cell_type": "code",
   "execution_count": 13,
   "id": "d7c3563e",
   "metadata": {},
   "outputs": [
    {
     "name": "stdout",
     "output_type": "stream",
     "text": [
      "Proportions Z-Test for Tg: Statistic=-0.5765, p-value=0.5643\n",
      "Proportions Z-Test for FFV: Statistic=0.2836, p-value=0.7767\n",
      "Proportions Z-Test for Tc: Statistic=1.1007, p-value=0.2710\n",
      "Proportions Z-Test for Density: Statistic=0.9270, p-value=0.3539\n",
      "Proportions Z-Test for Rg: Statistic=0.9270, p-value=0.3539\n"
     ]
    }
   ],
   "source": [
    "for feature in dev_train.drop(columns=[\"id\", \"SMILES\"]).columns:\n",
    "    stat, pval = run_proportions_ztest(dev_train[feature], dev_val[feature])\n",
    "    print(f\"Proportions Z-Test for {feature}: Statistic={stat:.4f}, p-value={pval:.4f}\")"
   ]
  },
  {
   "cell_type": "code",
   "execution_count": null,
   "id": "f580f0d7",
   "metadata": {},
   "outputs": [],
   "source": []
  }
 ],
 "metadata": {
  "kernelspec": {
   "display_name": "open-polymer",
   "language": "python",
   "name": "python3"
  },
  "language_info": {
   "codemirror_mode": {
    "name": "ipython",
    "version": 3
   },
   "file_extension": ".py",
   "mimetype": "text/x-python",
   "name": "python",
   "nbconvert_exporter": "python",
   "pygments_lexer": "ipython3",
   "version": "3.11.13"
  }
 },
 "nbformat": 4,
 "nbformat_minor": 5
}
