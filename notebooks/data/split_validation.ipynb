{
 "cells": [
  {
   "cell_type": "markdown",
   "id": "17fb6123",
   "metadata": {},
   "source": [
    "# Splitting data\n",
    "Split the original training data into train, validation, and test sets"
   ]
  },
  {
   "cell_type": "code",
   "execution_count": 2,
   "id": "93f13dd3",
   "metadata": {},
   "outputs": [],
   "source": [
    "%load_ext autoreload\n",
    "%autoreload 2"
   ]
  },
  {
   "cell_type": "code",
   "execution_count": 52,
   "id": "b5fc22fd",
   "metadata": {},
   "outputs": [],
   "source": [
    "DATA_DIR = \"../../data\"\n",
    "SEED = 2"
   ]
  },
  {
   "cell_type": "code",
   "execution_count": 53,
   "id": "191eb164",
   "metadata": {},
   "outputs": [
    {
     "name": "stdout",
     "output_type": "stream",
     "text": [
      "Total rows:   7973\n",
      "Dev train:    4783 (59.99%)\n",
      "Dev valid:    1595 (20.01%)\n",
      "Dev test:     1595 (20.01%)\n",
      "Polymer example:['*CC(C)=CC(C)S(*)(=O)=O', '*C=C[Ge](C=C[Si](*)(c1ccccc1)c1ccccc1)(c1ccccc1)c1ccccc1', '*CCCOC(=O)c1ccc2cc(C(=O)O*)ccc2c1']\n",
      "Columns:Index(['id', 'SMILES', 'Tg', 'FFV', 'Tc', 'Density', 'Rg'], dtype='object')\n"
     ]
    }
   ],
   "source": [
    "import pandas as pd\n",
    "from sklearn.model_selection import train_test_split\n",
    "\n",
    "csv_path = DATA_DIR + \"/neurips-open-polymer-prediction-2025/train.csv\"\n",
    "train_df = pd.read_csv(csv_path)\n",
    "\n",
    "# 1. split off 20% for dev_test\n",
    "temp_df, dev_test = train_test_split(\n",
    "    train_df,\n",
    "    test_size=0.2,\n",
    "    random_state=SEED,  # for reproducibility\n",
    "    shuffle=True\n",
    ")\n",
    "\n",
    "# 2. split the remaining 80% into 75% train / 25% valid → 0.6 / 0.2 overall\n",
    "dev_train, dev_val = train_test_split(\n",
    "    temp_df,\n",
    "    test_size=0.25,  # 0.111 * 0.9 = 0.1 of the original\n",
    "    random_state=SEED,\n",
    "    shuffle=True\n",
    ")\n",
    "\n",
    "# Verify sizes\n",
    "print(f\"Total rows:   {len(train_df)}\")\n",
    "print(f\"Dev train:    {len(dev_train)} ({len(dev_train) / len(train_df):.2%})\")\n",
    "print(f\"Dev valid:    {len(dev_val)} ({len(dev_val) / len(train_df):.2%})\")\n",
    "print(f\"Dev test:     {len(dev_test)} ({len(dev_test) / len(train_df):.2%})\")\n",
    "print(f\"Polymer example:{dev_train['SMILES'].to_list()[:3]}\")\n",
    "print(f\"Columns:{dev_train.columns}\")"
   ]
  },
  {
   "cell_type": "code",
   "execution_count": 54,
   "id": "5e4e1fe5",
   "metadata": {},
   "outputs": [
    {
     "data": {
      "text/html": [
       "<div>\n",
       "<style scoped>\n",
       "    .dataframe tbody tr th:only-of-type {\n",
       "        vertical-align: middle;\n",
       "    }\n",
       "\n",
       "    .dataframe tbody tr th {\n",
       "        vertical-align: top;\n",
       "    }\n",
       "\n",
       "    .dataframe thead th {\n",
       "        text-align: right;\n",
       "    }\n",
       "</style>\n",
       "<table border=\"1\" class=\"dataframe\">\n",
       "  <thead>\n",
       "    <tr style=\"text-align: right;\">\n",
       "      <th></th>\n",
       "      <th>Tg</th>\n",
       "      <th>FFV</th>\n",
       "      <th>Tc</th>\n",
       "      <th>Density</th>\n",
       "      <th>Rg</th>\n",
       "    </tr>\n",
       "  </thead>\n",
       "  <tbody>\n",
       "    <tr>\n",
       "      <th>count</th>\n",
       "      <td>511.000000</td>\n",
       "      <td>7030.000000</td>\n",
       "      <td>737.000000</td>\n",
       "      <td>613.000000</td>\n",
       "      <td>614.000000</td>\n",
       "    </tr>\n",
       "    <tr>\n",
       "      <th>mean</th>\n",
       "      <td>96.452314</td>\n",
       "      <td>0.367212</td>\n",
       "      <td>0.256334</td>\n",
       "      <td>0.985484</td>\n",
       "      <td>16.419787</td>\n",
       "    </tr>\n",
       "    <tr>\n",
       "      <th>std</th>\n",
       "      <td>111.228279</td>\n",
       "      <td>0.029609</td>\n",
       "      <td>0.089538</td>\n",
       "      <td>0.146189</td>\n",
       "      <td>4.608640</td>\n",
       "    </tr>\n",
       "    <tr>\n",
       "      <th>min</th>\n",
       "      <td>-148.029738</td>\n",
       "      <td>0.226992</td>\n",
       "      <td>0.046500</td>\n",
       "      <td>0.748691</td>\n",
       "      <td>9.728355</td>\n",
       "    </tr>\n",
       "    <tr>\n",
       "      <th>25%</th>\n",
       "      <td>13.674509</td>\n",
       "      <td>0.349549</td>\n",
       "      <td>0.186000</td>\n",
       "      <td>0.890243</td>\n",
       "      <td>12.540328</td>\n",
       "    </tr>\n",
       "    <tr>\n",
       "      <th>50%</th>\n",
       "      <td>74.040183</td>\n",
       "      <td>0.364264</td>\n",
       "      <td>0.236000</td>\n",
       "      <td>0.948193</td>\n",
       "      <td>15.052194</td>\n",
       "    </tr>\n",
       "    <tr>\n",
       "      <th>75%</th>\n",
       "      <td>161.147595</td>\n",
       "      <td>0.380790</td>\n",
       "      <td>0.330500</td>\n",
       "      <td>1.062096</td>\n",
       "      <td>20.411067</td>\n",
       "    </tr>\n",
       "    <tr>\n",
       "      <th>max</th>\n",
       "      <td>472.250000</td>\n",
       "      <td>0.777097</td>\n",
       "      <td>0.524000</td>\n",
       "      <td>1.840999</td>\n",
       "      <td>34.672906</td>\n",
       "    </tr>\n",
       "  </tbody>\n",
       "</table>\n",
       "</div>"
      ],
      "text/plain": [
       "               Tg          FFV          Tc     Density          Rg\n",
       "count  511.000000  7030.000000  737.000000  613.000000  614.000000\n",
       "mean    96.452314     0.367212    0.256334    0.985484   16.419787\n",
       "std    111.228279     0.029609    0.089538    0.146189    4.608640\n",
       "min   -148.029738     0.226992    0.046500    0.748691    9.728355\n",
       "25%     13.674509     0.349549    0.186000    0.890243   12.540328\n",
       "50%     74.040183     0.364264    0.236000    0.948193   15.052194\n",
       "75%    161.147595     0.380790    0.330500    1.062096   20.411067\n",
       "max    472.250000     0.777097    0.524000    1.840999   34.672906"
      ]
     },
     "execution_count": 54,
     "metadata": {},
     "output_type": "execute_result"
    }
   ],
   "source": [
    "train_df.drop(columns=[\"id\"]).describe()"
   ]
  },
  {
   "cell_type": "code",
   "execution_count": 55,
   "id": "426151d4",
   "metadata": {},
   "outputs": [
    {
     "data": {
      "text/html": [
       "<div>\n",
       "<style scoped>\n",
       "    .dataframe tbody tr th:only-of-type {\n",
       "        vertical-align: middle;\n",
       "    }\n",
       "\n",
       "    .dataframe tbody tr th {\n",
       "        vertical-align: top;\n",
       "    }\n",
       "\n",
       "    .dataframe thead th {\n",
       "        text-align: right;\n",
       "    }\n",
       "</style>\n",
       "<table border=\"1\" class=\"dataframe\">\n",
       "  <thead>\n",
       "    <tr style=\"text-align: right;\">\n",
       "      <th></th>\n",
       "      <th>Tg</th>\n",
       "      <th>FFV</th>\n",
       "      <th>Tc</th>\n",
       "      <th>Density</th>\n",
       "      <th>Rg</th>\n",
       "    </tr>\n",
       "  </thead>\n",
       "  <tbody>\n",
       "    <tr>\n",
       "      <th>count</th>\n",
       "      <td>105.000000</td>\n",
       "      <td>1403.000000</td>\n",
       "      <td>144.000000</td>\n",
       "      <td>125.000000</td>\n",
       "      <td>125.000000</td>\n",
       "    </tr>\n",
       "    <tr>\n",
       "      <th>mean</th>\n",
       "      <td>96.746767</td>\n",
       "      <td>0.367320</td>\n",
       "      <td>0.260388</td>\n",
       "      <td>0.981278</td>\n",
       "      <td>16.921804</td>\n",
       "    </tr>\n",
       "    <tr>\n",
       "      <th>std</th>\n",
       "      <td>110.425965</td>\n",
       "      <td>0.028496</td>\n",
       "      <td>0.084556</td>\n",
       "      <td>0.153701</td>\n",
       "      <td>4.978499</td>\n",
       "    </tr>\n",
       "    <tr>\n",
       "      <th>min</th>\n",
       "      <td>-148.029738</td>\n",
       "      <td>0.245613</td>\n",
       "      <td>0.073500</td>\n",
       "      <td>0.775000</td>\n",
       "      <td>9.943107</td>\n",
       "    </tr>\n",
       "    <tr>\n",
       "      <th>25%</th>\n",
       "      <td>19.426745</td>\n",
       "      <td>0.349822</td>\n",
       "      <td>0.190375</td>\n",
       "      <td>0.894080</td>\n",
       "      <td>12.711720</td>\n",
       "    </tr>\n",
       "    <tr>\n",
       "      <th>50%</th>\n",
       "      <td>72.320816</td>\n",
       "      <td>0.364874</td>\n",
       "      <td>0.247833</td>\n",
       "      <td>0.946533</td>\n",
       "      <td>16.272229</td>\n",
       "    </tr>\n",
       "    <tr>\n",
       "      <th>75%</th>\n",
       "      <td>167.964232</td>\n",
       "      <td>0.380817</td>\n",
       "      <td>0.335083</td>\n",
       "      <td>1.041526</td>\n",
       "      <td>20.550300</td>\n",
       "    </tr>\n",
       "    <tr>\n",
       "      <th>max</th>\n",
       "      <td>456.350000</td>\n",
       "      <td>0.500778</td>\n",
       "      <td>0.422000</td>\n",
       "      <td>1.840999</td>\n",
       "      <td>34.672906</td>\n",
       "    </tr>\n",
       "  </tbody>\n",
       "</table>\n",
       "</div>"
      ],
      "text/plain": [
       "               Tg          FFV          Tc     Density          Rg\n",
       "count  105.000000  1403.000000  144.000000  125.000000  125.000000\n",
       "mean    96.746767     0.367320    0.260388    0.981278   16.921804\n",
       "std    110.425965     0.028496    0.084556    0.153701    4.978499\n",
       "min   -148.029738     0.245613    0.073500    0.775000    9.943107\n",
       "25%     19.426745     0.349822    0.190375    0.894080   12.711720\n",
       "50%     72.320816     0.364874    0.247833    0.946533   16.272229\n",
       "75%    167.964232     0.380817    0.335083    1.041526   20.550300\n",
       "max    456.350000     0.500778    0.422000    1.840999   34.672906"
      ]
     },
     "execution_count": 55,
     "metadata": {},
     "output_type": "execute_result"
    }
   ],
   "source": [
    "dev_test.drop(columns=[\"id\"]).describe()"
   ]
  },
  {
   "cell_type": "code",
   "execution_count": 56,
   "id": "42eeb990",
   "metadata": {},
   "outputs": [],
   "source": [
    "# Kolmogorov-Smirnov (K-S) Test\n",
    "from scipy.stats import ks_2samp\n",
    "\n",
    "\n",
    "def ks_test_feature(set_a, set_b):\n",
    "    stat, p_value = ks_2samp(set_a.dropna(), set_b.dropna())\n",
    "    return stat, p_value\n"
   ]
  },
  {
   "cell_type": "code",
   "execution_count": 57,
   "id": "586e6c46",
   "metadata": {},
   "outputs": [
    {
     "name": "stdout",
     "output_type": "stream",
     "text": [
      "K-S Test for Tg: Statistic=0.0685, p-value=0.8279\n",
      "K-S Test for FFV: Statistic=0.0312, p-value=0.2501\n",
      "K-S Test for Tc: Statistic=0.0493, p-value=0.9384\n",
      "K-S Test for Density: Statistic=0.1040, p-value=0.2541\n",
      "K-S Test for Rg: Statistic=0.1078, p-value=0.2076\n"
     ]
    }
   ],
   "source": [
    "for feature in dev_train.drop(columns=[\"id\", \"SMILES\"]).columns:\n",
    "    stat, p_value = ks_test_feature(dev_train[feature], dev_test[feature])\n",
    "    print(f\"K-S Test for {feature}: Statistic={stat:.4f}, p-value={p_value:.4f}\")"
   ]
  },
  {
   "cell_type": "code",
   "execution_count": 58,
   "id": "d482f5aa",
   "metadata": {},
   "outputs": [
    {
     "name": "stdout",
     "output_type": "stream",
     "text": [
      "K-S Test for Tg: Statistic=0.1003, p-value=0.3905\n",
      "K-S Test for FFV: Statistic=0.0295, p-value=0.3063\n",
      "K-S Test for Tc: Statistic=0.0752, p-value=0.5699\n",
      "K-S Test for Density: Statistic=0.0526, p-value=0.9568\n",
      "K-S Test for Rg: Statistic=0.0816, p-value=0.5752\n"
     ]
    }
   ],
   "source": [
    "\n",
    "for feature in dev_train.drop(columns=[\"id\", \"SMILES\"]).columns:\n",
    "    stat, p_value = ks_test_feature(dev_train[feature], dev_val[feature])\n",
    "    print(f\"K-S Test for {feature}: Statistic={stat:.4f}, p-value={p_value:.4f}\")\n"
   ]
  },
  {
   "cell_type": "code",
   "execution_count": 59,
   "id": "db478f2e",
   "metadata": {},
   "outputs": [],
   "source": [
    "import numpy as np\n",
    "from statsmodels.stats.proportion import proportions_ztest\n",
    "\n",
    "\n",
    "def run_proportions_ztest(set_a, set_b):\n",
    "    counts = np.array([set_a.notna().sum(), set_b.notna().sum()])\n",
    "    nobs = np.array([set_a.size, set_b.size])\n",
    "    # print(counts, nobs)\n",
    "    stat, pval = proportions_ztest(counts, nobs)\n",
    "    return stat, pval\n"
   ]
  },
  {
   "cell_type": "code",
   "execution_count": 60,
   "id": "9224d024",
   "metadata": {},
   "outputs": [
    {
     "name": "stdout",
     "output_type": "stream",
     "text": [
      "Proportions Z-Test for Tg: Statistic=-0.3507, p-value=0.7258\n",
      "Proportions Z-Test for FFV: Statistic=0.0614, p-value=0.9510\n",
      "Proportions Z-Test for Tc: Statistic=0.6717, p-value=0.5018\n",
      "Proportions Z-Test for Density: Statistic=0.0042, p-value=0.9966\n",
      "Proportions Z-Test for Rg: Statistic=0.0311, p-value=0.9752\n"
     ]
    }
   ],
   "source": [
    "for feature in dev_train.drop(columns=[\"id\", \"SMILES\"]).columns:\n",
    "    stat, pval = run_proportions_ztest(dev_train[feature], dev_test[feature])\n",
    "    print(f\"Proportions Z-Test for {feature}: Statistic={stat:.4f}, p-value={pval:.4f}\")"
   ]
  },
  {
   "cell_type": "code",
   "execution_count": 61,
   "id": "d7c3563e",
   "metadata": {},
   "outputs": [
    {
     "name": "stdout",
     "output_type": "stream",
     "text": [
      "Proportions Z-Test for Tg: Statistic=-0.1739, p-value=0.8620\n",
      "Proportions Z-Test for FFV: Statistic=-0.8799, p-value=0.3789\n",
      "Proportions Z-Test for Tc: Statistic=1.4235, p-value=0.1546\n",
      "Proportions Z-Test for Density: Statistic=0.9831, p-value=0.3255\n",
      "Proportions Z-Test for Rg: Statistic=1.0094, p-value=0.3128\n"
     ]
    }
   ],
   "source": [
    "for feature in dev_train.drop(columns=[\"id\", \"SMILES\"]).columns:\n",
    "    stat, pval = run_proportions_ztest(dev_train[feature], dev_val[feature])\n",
    "    print(f\"Proportions Z-Test for {feature}: Statistic={stat:.4f}, p-value={pval:.4f}\")"
   ]
  },
  {
   "cell_type": "code",
   "execution_count": null,
   "id": "f580f0d7",
   "metadata": {},
   "outputs": [],
   "source": []
  }
 ],
 "metadata": {
  "kernelspec": {
   "display_name": "polymer",
   "language": "python",
   "name": "python3"
  },
  "language_info": {
   "codemirror_mode": {
    "name": "ipython",
    "version": 3
   },
   "file_extension": ".py",
   "mimetype": "text/x-python",
   "name": "python",
   "nbconvert_exporter": "python",
   "pygments_lexer": "ipython3",
   "version": "3.11.13"
  }
 },
 "nbformat": 4,
 "nbformat_minor": 5
}
